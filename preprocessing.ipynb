{
 "cells": [
  {
   "attachments": {},
   "cell_type": "markdown",
   "metadata": {},
   "source": [
    "# Preprocessing\n",
    "\n",
    "Modifico tutte le CT, in modo che siano pronte per i modelli."
   ]
  },
  {
   "cell_type": "code",
   "execution_count": 2,
   "metadata": {},
   "outputs": [
    {
     "name": "stdout",
     "output_type": "stream",
     "text": [
      "D:\\kits19\n"
     ]
    }
   ],
   "source": [
    "import os\n",
    "os.chdir(\"D:\\kits19\")\n",
    "cwd = os.getcwd()\n",
    "print(cwd)"
   ]
  },
  {
   "cell_type": "code",
   "execution_count": 1,
   "metadata": {},
   "outputs": [],
   "source": [
    "import numpy as np\n",
    "import matplotlib.pyplot as plt\n",
    "import nibabel as nib\n",
    "import skimage.transform\n",
    "from scipy.ndimage import zoom\n",
    "from skimage import exposure\n",
    "import cv2\n",
    "from tqdm import tqdm\n",
    "from PIL import Image\n",
    "\n",
    "# Set numpy to print only 2 decimal digits for neatness\n",
    "np.set_printoptions(precision=2, suppress=True)"
   ]
  },
  {
   "cell_type": "code",
   "execution_count": 4,
   "metadata": {},
   "outputs": [],
   "source": [
    "data_path = \"data/case_\"\n",
    "imaging_fname = \"/imaging.nii.gz\"\n",
    "segmentation_fname = \"/segmentation.nii.gz\"\n",
    "\n",
    "class Patient:\n",
    "  def __init__(self, number):\n",
    "      self.number = number\n",
    "      \n",
    "      self.imaging_path = self.get_im_data_path()\n",
    "      self.imaging = nib.load(self.imaging_path)\n",
    "      \n",
    "      if number < 210: # segmentation file only exists for non-submission cases\n",
    "        self.segmentation_path = self.get_seg_data_path()\n",
    "        self.segmentation = nib.load(self.segmentation_path)\n",
    "\n",
    "  def get_im_data_path(self):\n",
    "      '''\n",
    "      returns path to imaging file\n",
    "      '''\n",
    "      out = \"00000\"\n",
    "\n",
    "      out = out[len(str(self.number)):]\n",
    "      out += str(self.number)\n",
    "      return data_path + out + imaging_fname\n",
    "  \n",
    "  def get_seg_data_path(self):\n",
    "      '''\n",
    "      returns path to segmentation file\n",
    "      '''\n",
    "      out = \"00000\"\n",
    "\n",
    "      out = out[len(str(self.number)):]\n",
    "      out += str(self.number)\n",
    "      return data_path + out + segmentation_fname\n",
    "\n",
    "  def rr(self, target_file, target_resolution=[1,1,1], target_shape=[192,192,192]):\n",
    "    '''\n",
    "    Target file can be either self.imaging or self.segmentation\n",
    "    Function that returns reshaped and resized target block\n",
    "    ''' \n",
    "    target_fig = target_file.get_fdata()\n",
    "\n",
    "    # x,y,z\n",
    "    vox_dim = (target_file.header['pixdim'][2], target_file.header['pixdim'][3], target_file.header['pixdim'][1])\n",
    "\n",
    "    scale_vector = (vox_dim[0]/target_resolution[0],\n",
    "                    vox_dim[1]/target_resolution[1],\n",
    "                    vox_dim[2]/target_resolution[2])\n",
    "\n",
    "    \n",
    "\n",
    "    iso_target_fig = skimage.transform.rescale(target_fig, scale_vector, order=3, preserve_range=True,  mode='constant')\n",
    "    \n",
    "    # print(iso_target_fig.dtype) # float64\n",
    "    \n",
    "    factors = ( target_shape[0]/iso_target_fig.shape[0],\n",
    "                target_shape[1]/iso_target_fig.shape[1],\n",
    "                target_shape[2]/iso_target_fig.shape[2],)\n",
    "\n",
    "    rr_target_cube = zoom(iso_target_fig, factors, order=3, mode='nearest')\n",
    "\n",
    "    # print(rr_target_cube.dtype) # float64\n",
    "\n",
    "    # rr = rescaled and reshaped\n",
    "    # rr_target = nib.Nifti1Image(rr_target_fig, target_file.affine)\n",
    "\n",
    "    # # setto le dimensioni manualmente, sono abbastanza sicuro che il rescaling sia avvenuto correttamente\n",
    "\n",
    "    # for i in range(3):\n",
    "    #   rr_target.header['pixdim'][i+1] = target_resolution[i]\n",
    "\n",
    "    # for i in range(3):\n",
    "    #   rr_target.affine[i][2-i] = -target_resolution[i]\n",
    "\n",
    "    return rr_target_cube\n",
    "\n",
    "  def process_imaging(self, target_resolution=[1,1,1], target_shape=[192,256,256]):\n",
    "    '''\n",
    "    function that returns reshaped, resized, normalized imaging block\n",
    "    '''\n",
    "\n",
    "    rr_imaging = self.rr(self.imaging, target_resolution, target_shape)\n",
    "    output = cv2.normalize(rr_imaging, None, alpha = 0, beta = 255, norm_type = cv2.NORM_MINMAX, dtype = cv2.CV_8UC1)\n",
    "    return output\n",
    "\n",
    "  def process_segmentation(self, target_resolution=[1,1,1], target_shape=[192,256,256]):\n",
    "    '''\n",
    "    function that returns reshaped, resized segmentation block\n",
    "    '''\n",
    "\n",
    "    output = self.rr(self.segmentation, target_resolution, target_shape)\n",
    "\n",
    "    # might break things (it does, kinda)\n",
    "    #output = cv2.normalize(rr_segmentation, None, alpha = 0, beta = 3, norm_type = cv2.NORM_MINMAX, dtype = cv2.CV_8UC1)\n",
    "    \n",
    "    output = np.rint(output)\n",
    "    output = output.astype('uint8')\n",
    "\n",
    "    return output"
   ]
  },
  {
   "cell_type": "code",
   "execution_count": 4,
   "metadata": {},
   "outputs": [],
   "source": [
    "def imshow_from_list(imgs_and_segs):\n",
    "  '''\n",
    "  helper function that given a list of tuples returns img and seg figs next to each other\n",
    "  '''\n",
    "  n = len(imgs_and_segs)\n",
    "  fig = plt.figure(figsize=(16, n*8))\n",
    "  for i in range(0,2*n,2):\n",
    "    a = fig.add_subplot(n,2,i+1)\n",
    "    imgplot = plt.imshow(imgs_and_segs[i//2][0], cmap='gray')\n",
    "    plt.title(\"Height: {}\".format(i))\n",
    "    a = fig.add_subplot(n,2,i+2)\n",
    "    imgplot = plt.imshow(imgs_and_segs[i//2][1])\n",
    "    \n",
    "  plt.show()"
   ]
  },
  {
   "cell_type": "code",
   "execution_count": 3,
   "metadata": {},
   "outputs": [],
   "source": [
    "def get_number(n):\n",
    "  '''\n",
    "  returns num padded with zeros\n",
    "  '''\n",
    "  out = \"00000\"\n",
    "\n",
    "  out = out[len(str(n)):]\n",
    "  out += str(n)\n",
    "  return out"
   ]
  },
  {
   "attachments": {},
   "cell_type": "markdown",
   "metadata": {},
   "source": [
    "---\n",
    "\n",
    "Iterate over all the cases, get images, kidney and tumor masks"
   ]
  },
  {
   "cell_type": "code",
   "execution_count": 34,
   "metadata": {},
   "outputs": [
    {
     "name": "stderr",
     "output_type": "stream",
     "text": [
      "100%|██████████| 167/167 [2:12:13<00:00, 47.51s/it]  \n"
     ]
    }
   ],
   "source": [
    "# get train/test data\n",
    "\n",
    "clahe_img = cv2.createCLAHE (clipLimit = 2.0, tileGridSize = (8, 8))\n",
    "\n",
    "for i in tqdm(range(1,168)): # 168:210 = 80:100\n",
    "  fig_path = '//processed_data//sub_images'\n",
    "  kidney_path = '//processed_data//test_kidney_labels'\n",
    "  tumor_path = '//processed_data//test_tumor_labels'\n",
    "  combined_mask_path = 'D:\\\\kits19\\\\processed_data\\\\combined_labels'\n",
    "\n",
    "  pat = Patient(i)\n",
    "  #img_cube = pat.process_imaging(target_shape=[192, 256, 256])\n",
    "  seg_cube = pat.process_segmentation(target_shape=[192, 256, 256])\n",
    "\n",
    "  for j in range(191):\n",
    "    # name_im = fig_path + '/case_' + get_number(i) + '_im_' + get_number(j) + '.png'\n",
    "    # name_seg = kidney_path + '/case_' + get_number(i) + '_seg_' + get_number(j) + '.png'\n",
    "    # name_tum = tumor_path + '/case_' + get_number(i) + '_tum_' + get_number(j) + '.png'\n",
    "\n",
    "    name_combined = combined_mask_path + '/case_' + get_number(i) + '_comb_' + get_number(j) + '.png'\n",
    "    \n",
    "    #apply clahe on imaging for better results\n",
    "    # img_slice = Image.fromarray(clahe_img.apply(img_cube[j,:,:]))\n",
    "    # img_slice.save(name_im)\n",
    "    \n",
    "    # # create kidney mask\n",
    "    # seg_cube_at_j = seg_cube[j,:,:]\n",
    "    # seg_cube_at_j[seg_cube_at_j>1] = 1\n",
    "    # seg_cube_at_j = seg_cube_at_j*255\n",
    "    # seg_pic = Image.fromarray(seg_cube_at_j)\n",
    "    # seg_pic.save(name_seg)\n",
    "\n",
    "    # create tumor mask\n",
    "    # tum_cube_at_j = seg_cube[j,:,:]\n",
    "    # tum_cube_at_j[tum_cube_at_j==1] = 0 # set kidney values to 0\n",
    "    # tum_cube_at_j[tum_cube_at_j==2] = 1 # set tumor values to 1\n",
    "    # tum_cube_at_j = tum_cube_at_j*255\n",
    "    # tum_pic = Image.fromarray(tum_cube_at_j)\n",
    "    # tum_pic.save(name_tum)\n",
    "\n",
    "    # create combined mask (tumor and kidney)\n",
    "    # this time image will have low contrast, (np.unique(comb_pic) >> [0,1,2]) so that mask is already encoded\n",
    "    comb_slice_at_j = seg_cube[j,:,:]\n",
    "    comb_pic = Image.fromarray(comb_slice_at_j)\n",
    "    comb_pic.save(name_combined)\n",
    "\n",
    "\n"
   ]
  },
  {
   "cell_type": "code",
   "execution_count": null,
   "metadata": {},
   "outputs": [],
   "source": [
    "# verify results\n",
    "pat = Patient(1)\n",
    "seg_cube = pat.process_segmentation(target_shape=[192, 256, 256])"
   ]
  },
  {
   "cell_type": "code",
   "execution_count": 30,
   "metadata": {},
   "outputs": [
    {
     "name": "stdout",
     "output_type": "stream",
     "text": [
      "[0 1 2]\n"
     ]
    },
    {
     "data": {
      "text/plain": [
       "'D:\\\\kits19'"
      ]
     },
     "execution_count": 30,
     "metadata": {},
     "output_type": "execute_result"
    },
    {
     "data": {
      "image/png": "[encoded data removed]",
      "text/plain": [
       "<Figure size 640x480 with 1 Axes>"
      ]
     },
     "metadata": {},
     "output_type": "display_data"
    }
   ],
   "source": [
    "comb_slice_at_j = seg_cube[84,:,:]\n",
    "\n",
    "print(np.unique(comb_slice_at_j))\n",
    "\n",
    "plt.imshow(comb_slice_at_j, cmap='gray')\n",
    "\n",
    "comb_pic = Image.fromarray(comb_slice_at_j*127)\n",
    "comb_pic.save('TEST3.png')\n",
    "os.getcwd()"
   ]
  }
 ],
 "metadata": {
  "kernelspec": {
   "display_name": "Python 3",
   "language": "python",
   "name": "python3"
  },
  "language_info": {
   "codemirror_mode": {
    "name": "ipython",
    "version": 3
   },
   "file_extension": ".py",
   "mimetype": "text/x-python",
   "name": "python",
   "nbconvert_exporter": "python",
   "pygments_lexer": "ipython3",
   "version": "3.10.9 (tags/v3.10.9:1dd9be6, Dec  6 2022, 20:01:21) [MSC v.1934 64 bit (AMD64)]"
  },
  "orig_nbformat": 4,
  "vscode": {
   "interpreter": {
    "hash": "602bbe8e8fe3127dc2d2bb8f57c49cfbb507be2cc0e090f10eb4c4d0af354b8b"
   }
  }
 },
 "nbformat": 4,
 "nbformat_minor": 2
}
